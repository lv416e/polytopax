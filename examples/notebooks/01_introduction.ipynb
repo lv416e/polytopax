{
 "cells": [
  {
   "cell_type": "markdown",
   "metadata": {},
   "source": [
    "# Introduction to PolytopAX\n",
    "\n",
    "Welcome to PolytopAX! This notebook provides a hands-on introduction to differentiable convex hull computation with JAX.\n",
    "\n",
    "## What You'll Learn\n",
    "\n",
    "- Basic convex hull computation\n",
    "- Understanding differentiable algorithms\n",
    "- JAX integration and transformations\n",
    "- Visualizing results\n",
    "\n",
    "## Prerequisites\n",
    "\n",
    "- Basic Python knowledge\n",
    "- Familiarity with NumPy arrays\n",
    "- Basic understanding of convex geometry (helpful but not required)"
   ]
  },
  {
   "cell_type": "markdown",
   "metadata": {},
   "source": [
    "## Setup and Imports"
   ]
  },
  {
   "cell_type": "code",
   "execution_count": null,
   "metadata": {},
   "outputs": [],
   "source": [
    "# Install PolytopAX if not already installed\n",
    "# !pip install polytopax\n",
    "\n",
    "import jax\n",
    "import jax.numpy as jnp\n",
    "\n",
    "# For visualization\n",
    "import matplotlib.pyplot as plt\n",
    "from matplotlib.patches import Polygon\n",
    "\n",
    "import polytopax as ptx\n",
    "\n",
    "# Set up matplotlib\n",
    "plt.style.use('default')\n",
    "plt.rcParams['figure.figsize'] = (10, 6)\n",
    "\n",
    "print(f\"PolytopAX version: {ptx.__version__}\")\n",
    "print(f\"JAX version: {jax.__version__}\")"
   ]
  },
  {
   "cell_type": "markdown",
   "metadata": {},
   "source": [
    "## 1. Your First Convex Hull\n",
    "\n",
    "Let's start with a simple example: computing the convex hull of a set of 2D points."
   ]
  },
  {
   "cell_type": "code",
   "execution_count": null,
   "metadata": {},
   "outputs": [],
   "source": [
    "# Create a set of 2D points\n",
    "points = jnp.array([\n",
    "    [0.0, 0.0],   # corner\n",
    "    [1.0, 0.0],   # corner\n",
    "    [1.0, 1.0],   # corner\n",
    "    [0.0, 1.0],   # corner\n",
    "    [0.5, 0.5],   # interior point\n",
    "    [0.3, 0.7],   # interior point\n",
    "    [0.8, 0.2],   # interior point\n",
    "])\n",
    "\n",
    "print(f\"Input points shape: {points.shape}\")\n",
    "print(f\"Points:\\n{points}\")"
   ]
  },
  {
   "cell_type": "code",
   "execution_count": null,
   "metadata": {},
   "outputs": [],
   "source": [
    "# Compute the convex hull\n",
    "hull = ptx.ConvexHull.from_points(points, n_directions=20)\n",
    "\n",
    "print(f\"Hull vertices shape: {hull.vertices.shape}\")\n",
    "print(f\"Number of hull vertices: {hull.n_vertices}\")\n",
    "print(f\"Hull vertices:\\n{hull.vertices}\")"
   ]
  },
  {
   "cell_type": "markdown",
   "metadata": {},
   "source": [
    "### Visualization"
   ]
  },
  {
   "cell_type": "code",
   "execution_count": null,
   "metadata": {},
   "outputs": [],
   "source": [
    "def plot_hull(points, hull, title=\"Convex Hull\"):\n",
    "    \"\"\"Helper function to visualize convex hull.\"\"\"\n",
    "    fig, ax = plt.subplots(1, 1, figsize=(8, 8))\n",
    "\n",
    "    # Plot original points\n",
    "    ax.scatter(points[:, 0], points[:, 1], c='red', s=50, alpha=0.7, label='Input points')\n",
    "\n",
    "    # Plot hull vertices\n",
    "    hull_vertices = hull.vertices\n",
    "    ax.scatter(hull_vertices[:, 0], hull_vertices[:, 1], c='blue', s=100,\n",
    "               marker='s', label='Hull vertices')\n",
    "\n",
    "    # Draw hull polygon (approximate)\n",
    "    # For visualization, we'll connect hull vertices in a reasonable order\n",
    "    if hull_vertices.shape[0] > 2:\n",
    "        # Sort by angle for better visualization\n",
    "        center = jnp.mean(hull_vertices, axis=0)\n",
    "        angles = jnp.arctan2(hull_vertices[:, 1] - center[1], hull_vertices[:, 0] - center[0])\n",
    "        order = jnp.argsort(angles)\n",
    "        ordered_vertices = hull_vertices[order]\n",
    "\n",
    "        polygon = Polygon(ordered_vertices, alpha=0.3, facecolor='blue', edgecolor='blue')\n",
    "        ax.add_patch(polygon)\n",
    "\n",
    "    ax.set_xlabel('X')\n",
    "    ax.set_ylabel('Y')\n",
    "    ax.set_title(title)\n",
    "    ax.legend()\n",
    "    ax.grid(True, alpha=0.3)\n",
    "    ax.axis('equal')\n",
    "\n",
    "    return fig, ax\n",
    "\n",
    "# Plot the result\n",
    "plot_hull(points, hull, \"First Convex Hull Example\")\n",
    "plt.show()"
   ]
  },
  {
   "cell_type": "markdown",
   "metadata": {},
   "source": [
    "## 2. Hull Properties\n",
    "\n",
    "PolytopAX can compute various geometric properties of the convex hull."
   ]
  },
  {
   "cell_type": "code",
   "execution_count": null,
   "metadata": {},
   "outputs": [],
   "source": [
    "# Compute geometric properties\n",
    "area = hull.volume()  # In 2D, volume() returns area\n",
    "perimeter = hull.surface_area()  # In 2D, surface_area() returns perimeter\n",
    "centroid = hull.centroid()\n",
    "diameter = hull.diameter()\n",
    "bbox_min, bbox_max = hull.bounding_box()\n",
    "\n",
    "print(\"Geometric Properties:\")\n",
    "print(f\"  Area: {area:.4f}\")\n",
    "print(f\"  Perimeter: {perimeter:.4f}\")\n",
    "print(f\"  Centroid: [{centroid[0]:.4f}, {centroid[1]:.4f}]\")\n",
    "print(f\"  Diameter: {diameter:.4f}\")\n",
    "print(f\"  Bounding box: [{bbox_min[0]:.2f}, {bbox_min[1]:.2f}] to [{bbox_max[0]:.2f}, {bbox_max[1]:.2f}]\")"
   ]
  },
  {
   "cell_type": "markdown",
   "metadata": {},
   "source": [
    "### Point Inclusion Testing"
   ]
  },
  {
   "cell_type": "code",
   "execution_count": null,
   "metadata": {},
   "outputs": [],
   "source": [
    "# Test point inclusion\n",
    "test_points = jnp.array([\n",
    "    [0.5, 0.5],   # should be inside\n",
    "    [0.0, 0.0],   # on boundary\n",
    "    [1.5, 1.5],   # outside\n",
    "    [-0.1, 0.5],  # outside\n",
    "])\n",
    "\n",
    "print(\"Point Inclusion Tests:\")\n",
    "for i, point in enumerate(test_points):\n",
    "    is_inside = hull.contains(point)\n",
    "    distance = hull.distance_to(point)\n",
    "    print(f\"  Point {point}: inside={is_inside}, distance={distance:.4f}\")"
   ]
  },
  {
   "cell_type": "code",
   "execution_count": null,
   "metadata": {},
   "outputs": [],
   "source": [
    "# Visualize point inclusion\n",
    "fig, ax = plot_hull(points, hull, \"Point Inclusion Testing\")\n",
    "\n",
    "# Add test points\n",
    "for i, point in enumerate(test_points):\n",
    "    is_inside = hull.contains(point)\n",
    "    color = 'green' if is_inside else 'orange'\n",
    "    marker = 'o' if is_inside else 'x'\n",
    "    ax.scatter(point[0], point[1], c=color, s=100, marker=marker,\n",
    "              label=f'Test point {i} ({\"inside\" if is_inside else \"outside\"})')\n",
    "\n",
    "ax.legend()\n",
    "plt.show()"
   ]
  },
  {
   "cell_type": "markdown",
   "metadata": {},
   "source": [
    "## 3. Understanding Differentiability\n",
    "\n",
    "The key feature of PolytopAX is that convex hull operations are differentiable. Let's explore this."
   ]
  },
  {
   "cell_type": "code",
   "execution_count": null,
   "metadata": {},
   "outputs": [],
   "source": [
    "# Define a function that depends on hull properties\n",
    "def hull_area_function(points):\n",
    "    \"\"\"Function that returns the area of the convex hull.\"\"\"\n",
    "    hull = ptx.ConvexHull.from_points(points, n_directions=15)\n",
    "    return hull.volume()\n",
    "\n",
    "# Compute the area\n",
    "area = hull_area_function(points)\n",
    "print(f\"Hull area: {area:.4f}\")\n",
    "\n",
    "# Compute gradients with respect to input points\n",
    "grad_fn = jax.grad(hull_area_function)\n",
    "gradients = grad_fn(points)\n",
    "\n",
    "print(f\"\\nGradients shape: {gradients.shape}\")\n",
    "print(f\"Gradients:\\n{gradients}\")\n",
    "print(\"\\nGradients show how moving each point affects the hull area\")"
   ]
  },
  {
   "cell_type": "code",
   "execution_count": null,
   "metadata": {},
   "outputs": [],
   "source": [
    "# Visualize gradients\n",
    "fig, ax = plot_hull(points, hull, \"Gradients of Hull Area\")\n",
    "\n",
    "# Plot gradient vectors\n",
    "scale = 0.5  # Scale factor for visualization\n",
    "for i, (point, grad) in enumerate(zip(points, gradients, strict=False)):\n",
    "    ax.arrow(point[0], point[1], grad[0] * scale, grad[1] * scale,\n",
    "             head_width=0.03, head_length=0.02, fc='red', ec='red')\n",
    "    ax.text(point[0] + 0.05, point[1] + 0.05, f'{i}', fontsize=8)\n",
    "\n",
    "ax.set_title(\"Gradients of Hull Area w.r.t. Point Positions\")\n",
    "plt.show()\n",
    "\n",
    "print(\"Red arrows show gradient directions:\")\n",
    "print(\"- Longer arrows indicate larger gradients\")\n",
    "print(\"- Direction shows how to move point to increase area\")"
   ]
  },
  {
   "cell_type": "markdown",
   "metadata": {},
   "source": [
    "## 4. JAX Transformations\n",
    "\n",
    "PolytopAX works seamlessly with all JAX transformations."
   ]
  },
  {
   "cell_type": "markdown",
   "metadata": {},
   "source": [
    "### JIT Compilation for Performance"
   ]
  },
  {
   "cell_type": "code",
   "execution_count": null,
   "metadata": {},
   "outputs": [],
   "source": [
    "# JIT compile the hull area function\n",
    "jit_hull_area = jax.jit(hull_area_function)\n",
    "\n",
    "# Test that results are the same\n",
    "area_regular = hull_area_function(points)\n",
    "area_jit = jit_hull_area(points)\n",
    "\n",
    "print(f\"Regular function: {area_regular:.6f}\")\n",
    "print(f\"JIT compiled:     {area_jit:.6f}\")\n",
    "print(f\"Difference:       {abs(area_regular - area_jit):.2e}\")\n",
    "print(\"✅ JIT compilation preserves accuracy\")"
   ]
  },
  {
   "cell_type": "markdown",
   "metadata": {},
   "source": [
    "### Vectorization with vmap"
   ]
  },
  {
   "cell_type": "code",
   "execution_count": null,
   "metadata": {},
   "outputs": [],
   "source": [
    "# Create multiple point sets\n",
    "n_sets = 3\n",
    "scales = jnp.array([0.5, 1.0, 1.5])\n",
    "batch_points = scales[:, None, None] * points[None, :, :]\n",
    "\n",
    "print(f\"Batch shape: {batch_points.shape}\")\n",
    "print(f\"Processing {n_sets} point sets with scales: {scales}\")\n",
    "\n",
    "# Vectorize the hull area function\n",
    "batch_area_fn = jax.vmap(hull_area_function)\n",
    "batch_areas = batch_area_fn(batch_points)\n",
    "\n",
    "print(f\"\\nBatch areas: {batch_areas}\")\n",
    "\n",
    "# Verify scaling relationship\n",
    "# Area should scale as scale^2 in 2D\n",
    "expected_areas = batch_areas[1] * (scales**2)  # Reference is scale=1.0\n",
    "print(f\"Expected areas (scale^2): {expected_areas}\")\n",
    "print(f\"Actual areas:             {batch_areas}\")\n",
    "print(f\"Relative errors: {jnp.abs(batch_areas - expected_areas) / expected_areas}\")"
   ]
  },
  {
   "cell_type": "markdown",
   "metadata": {},
   "source": [
    "### Visualization of Batch Results"
   ]
  },
  {
   "cell_type": "code",
   "execution_count": null,
   "metadata": {},
   "outputs": [],
   "source": [
    "# Visualize the different scaled point sets\n",
    "fig, axes = plt.subplots(1, 3, figsize=(15, 5))\n",
    "\n",
    "for i, (scale, points_scaled) in enumerate(zip(scales, batch_points, strict=False)):\n",
    "    hull_scaled = ptx.ConvexHull.from_points(points_scaled, n_directions=15)\n",
    "\n",
    "    ax = axes[i]\n",
    "\n",
    "    # Plot points and hull\n",
    "    ax.scatter(points_scaled[:, 0], points_scaled[:, 1], c='red', s=50, alpha=0.7)\n",
    "    hull_vertices = hull_scaled.vertices\n",
    "    ax.scatter(hull_vertices[:, 0], hull_vertices[:, 1], c='blue', s=100, marker='s')\n",
    "\n",
    "    # Draw approximate hull\n",
    "    if hull_vertices.shape[0] > 2:\n",
    "        center = jnp.mean(hull_vertices, axis=0)\n",
    "        angles = jnp.arctan2(hull_vertices[:, 1] - center[1], hull_vertices[:, 0] - center[0])\n",
    "        order = jnp.argsort(angles)\n",
    "        ordered_vertices = hull_vertices[order]\n",
    "        polygon = Polygon(ordered_vertices, alpha=0.3, facecolor='blue')\n",
    "        ax.add_patch(polygon)\n",
    "\n",
    "    ax.set_title(f'Scale {scale}: Area = {batch_areas[i]:.3f}')\n",
    "    ax.set_xlabel('X')\n",
    "    ax.set_ylabel('Y')\n",
    "    ax.grid(True, alpha=0.3)\n",
    "    ax.axis('equal')\n",
    "\n",
    "plt.tight_layout()\n",
    "plt.show()"
   ]
  },
  {
   "cell_type": "markdown",
   "metadata": {},
   "source": [
    "## 5. Exploring Algorithm Parameters\n",
    "\n",
    "PolytopAX uses direction vector sampling for convex hull approximation. Let's see how different parameters affect the results."
   ]
  },
  {
   "cell_type": "code",
   "execution_count": null,
   "metadata": {},
   "outputs": [],
   "source": [
    "# Test different numbers of directions\n",
    "direction_counts = [5, 10, 20, 50]\n",
    "\n",
    "print(\"Effect of number of directions:\")\n",
    "for n_dirs in direction_counts:\n",
    "    hull_test = ptx.ConvexHull.from_points(points, n_directions=n_dirs)\n",
    "    area_test = hull_test.volume()\n",
    "    n_vertices = hull_test.n_vertices\n",
    "    print(f\"  {n_dirs:2d} directions: {n_vertices:2d} vertices, area = {area_test:.4f}\")\n",
    "\n",
    "print(\"\\nObservation: More directions generally give better approximations\")\n",
    "print(\"but with diminishing returns and increased computation cost.\")"
   ]
  },
  {
   "cell_type": "code",
   "execution_count": null,
   "metadata": {},
   "outputs": [],
   "source": [
    "# Visualize the effect of different direction counts\n",
    "fig, axes = plt.subplots(2, 2, figsize=(12, 10))\n",
    "axes = axes.flatten()\n",
    "\n",
    "for i, n_dirs in enumerate(direction_counts):\n",
    "    hull_test = ptx.ConvexHull.from_points(points, n_directions=n_dirs)\n",
    "\n",
    "    ax = axes[i]\n",
    "\n",
    "    # Plot original points\n",
    "    ax.scatter(points[:, 0], points[:, 1], c='red', s=50, alpha=0.7, label='Input')\n",
    "\n",
    "    # Plot hull vertices\n",
    "    hull_vertices = hull_test.vertices\n",
    "    ax.scatter(hull_vertices[:, 0], hull_vertices[:, 1], c='blue', s=100,\n",
    "               marker='s', label='Hull vertices')\n",
    "\n",
    "    # Draw hull\n",
    "    if hull_vertices.shape[0] > 2:\n",
    "        center = jnp.mean(hull_vertices, axis=0)\n",
    "        angles = jnp.arctan2(hull_vertices[:, 1] - center[1], hull_vertices[:, 0] - center[0])\n",
    "        order = jnp.argsort(angles)\n",
    "        ordered_vertices = hull_vertices[order]\n",
    "        polygon = Polygon(ordered_vertices, alpha=0.3, facecolor='blue')\n",
    "        ax.add_patch(polygon)\n",
    "\n",
    "    ax.set_title(f'{n_dirs} directions\\n{hull_test.n_vertices} vertices, area={hull_test.volume():.3f}')\n",
    "    ax.set_xlabel('X')\n",
    "    ax.set_ylabel('Y')\n",
    "    ax.legend()\n",
    "    ax.grid(True, alpha=0.3)\n",
    "    ax.axis('equal')\n",
    "\n",
    "plt.tight_layout()\n",
    "plt.show()"
   ]
  },
  {
   "cell_type": "markdown",
   "metadata": {},
   "source": [
    "## 6. 3D Example\n",
    "\n",
    "Let's explore convex hulls in 3D."
   ]
  },
  {
   "cell_type": "code",
   "execution_count": null,
   "metadata": {},
   "outputs": [],
   "source": [
    "# Create 3D points (vertices of a cube plus some interior points)\n",
    "points_3d = jnp.array([\n",
    "    # Cube vertices\n",
    "    [0.0, 0.0, 0.0], [1.0, 0.0, 0.0], [1.0, 1.0, 0.0], [0.0, 1.0, 0.0],\n",
    "    [0.0, 0.0, 1.0], [1.0, 0.0, 1.0], [1.0, 1.0, 1.0], [0.0, 1.0, 1.0],\n",
    "    # Interior points\n",
    "    [0.5, 0.5, 0.5], [0.3, 0.3, 0.3], [0.7, 0.7, 0.7],\n",
    "])\n",
    "\n",
    "print(f\"3D points shape: {points_3d.shape}\")\n",
    "\n",
    "# Compute 3D convex hull\n",
    "hull_3d = ptx.ConvexHull.from_points(points_3d, n_directions=30)\n",
    "\n",
    "print(\"\\n3D Hull Properties:\")\n",
    "print(f\"  Vertices: {hull_3d.n_vertices}\")\n",
    "print(f\"  Volume: {hull_3d.volume():.4f}\")\n",
    "print(f\"  Surface area: {hull_3d.surface_area():.4f}\")\n",
    "print(f\"  Centroid: {hull_3d.centroid()}\")\n",
    "print(f\"  Diameter: {hull_3d.diameter():.4f}\")"
   ]
  },
  {
   "cell_type": "code",
   "execution_count": null,
   "metadata": {},
   "outputs": [],
   "source": [
    "# 3D visualization (2D projections)\n",
    "fig, axes = plt.subplots(1, 3, figsize=(15, 5))\n",
    "\n",
    "projections = [\n",
    "    ([0, 1], 'XY'),  # xy projection\n",
    "    ([0, 2], 'XZ'),  # xz projection\n",
    "    ([1, 2], 'YZ'),  # yz projection\n",
    "]\n",
    "\n",
    "for i, (dims, label) in enumerate(projections):\n",
    "    ax = axes[i]\n",
    "\n",
    "    # Project points\n",
    "    points_proj = points_3d[:, dims]\n",
    "    hull_vertices_proj = hull_3d.vertices[:, dims]\n",
    "\n",
    "    # Plot projected points\n",
    "    ax.scatter(points_proj[:, 0], points_proj[:, 1], c='red', s=50, alpha=0.7, label='Input')\n",
    "    ax.scatter(hull_vertices_proj[:, 0], hull_vertices_proj[:, 1], c='blue', s=100,\n",
    "               marker='s', label='Hull vertices')\n",
    "\n",
    "    ax.set_title(f'{label} Projection')\n",
    "    ax.set_xlabel(label[0])\n",
    "    ax.set_ylabel(label[1])\n",
    "    ax.legend()\n",
    "    ax.grid(True, alpha=0.3)\n",
    "    ax.axis('equal')\n",
    "\n",
    "plt.tight_layout()\n",
    "plt.show()\n",
    "\n",
    "print(\"3D hulls are visualized as 2D projections.\")\n",
    "print(\"The actual 3D hull has the computed volume and surface area.\")"
   ]
  },
  {
   "cell_type": "markdown",
   "metadata": {},
   "source": [
    "## Summary\n",
    "\n",
    "In this notebook, you've learned:\n",
    "\n",
    "1. **Basic Usage**: How to compute convex hulls with PolytopAX\n",
    "2. **Properties**: Computing area, perimeter, centroid, and testing point inclusion\n",
    "3. **Differentiability**: How to compute gradients of hull properties\n",
    "4. **JAX Integration**: Using JIT, grad, and vmap transformations\n",
    "5. **Parameters**: Effect of direction count on approximation quality\n",
    "6. **3D Extensions**: Working with higher-dimensional hulls\n",
    "\n",
    "## Next Steps\n",
    "\n",
    "- **Optimization**: Use gradients for shape optimization problems\n",
    "- **Batch Processing**: Process multiple point sets efficiently\n",
    "- **Advanced Features**: Explore different sampling methods and algorithms\n",
    "- **Applications**: Apply to machine learning and scientific computing problems\n",
    "\n",
    "Check out the other notebooks for more advanced topics!"
   ]
  }
 ],
 "metadata": {
  "kernelspec": {
   "display_name": "Python 3",
   "language": "python",
   "name": "python3"
  },
  "language_info": {
   "codemirror_mode": {
    "name": "ipython",
    "version": 3
   },
   "file_extension": ".py",
   "mimetype": "text/x-python",
   "name": "python",
   "nbconvert_exporter": "python",
   "pygments_lexer": "ipython3",
   "version": "3.8.0"
  }
 },
 "nbformat": 4,
 "nbformat_minor": 4
}